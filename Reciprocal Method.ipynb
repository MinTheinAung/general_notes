{
 "cells": [
  {
   "cell_type": "markdown",
   "metadata": {},
   "source": [
    "<h1 align='center'>Reciprocal Method<h1/>"
   ]
  },
  {
   "cell_type": "markdown",
   "metadata": {},
   "source": [
    "A company has two service departments and two producing departments. The two service departments provide service not only to two producing departments but also one another. The costs of four departments and relationship among them is shown below:\n",
    "\n",
    "|Department|Departmental Overhead bef. Distribution|Dept. Y|Dept. Z|\n",
    "|:-|-:|-:|-:|\n",
    "|Producing dept. A|12,000|40%|20%|\n",
    "|Producing dept. B|16,000|40%|50%|\n",
    "|Service dept. Y|7,260||30%|\n",
    "|Service dept. Z|4,000|20%||\n",
    "|Total dept. overhead|39,260|100%|100%|\n",
    "<!-- <img src='https://www.accountingformanagement.org/wp-content/uploads/2018/06/reciprocal-method-of-cost-allocation-img1.png'> -->\n",
    "\n",
    "Required: Allocate the cost of service departments to producing departments using reciprocal/algebraic method.\n",
    "\n",
    "Solution\n",
    "Let:\n",
    "\n",
    "**Y = $7,260 + 0.3Z —— Eq.1**\n",
    "\n",
    "**Z = $4,000 + 0.2Y —— Eq.2**\n",
    "\n",
    "Substituting the value of Z in equation 1:\n",
    "\n",
    "Y = $7,260 + 0.3($4,000 + 0.2Y)\n",
    "\n",
    "Y = $7,260 + $600 + 0.06Y\n",
    "\n",
    "Y – 0.06Y = $7,260 + $1,200\n",
    "\n",
    "0.94Y = $8,460\n",
    "\n",
    "Y = $8,460/0.94\n",
    "\n",
    "Y = $9,000\n",
    "\n",
    "Substituting the value of Y in equation 2:\n",
    "\n",
    "Z = $4,000 + 0.2(9,000)\n",
    "\n",
    "Z = $4,000 + $1,800\n",
    "\n",
    "Z = $5,800\n",
    "\n",
    "Distribution summary:\n",
    "\n",
    "<!-- <img src='https://www.accountingformanagement.org/wp-content/uploads/2018/03/reciprocal-method-of-cost-allocation-img2.png'> -->\n",
    "\n",
    "||Dept. A|Dept. B|Dept. Y|Dept. Z|Total|\n",
    "|:-|-:|-:|-:|-:|-:|\n",
    "|Departmental overhead bef. allocation|12,000|16,000|7,260|4,000|39,260|\n",
    "|Allocation:||||||\n",
    "|Department Y (40%, 40%, 20%)|3,600|3,600|(9,000)|1,800| |\n",
    "|Department Z (20%, 50%, 30%)|1,160|2,900|1,740|(5,800)| |\n",
    "|Total departmental overhead|16,760|22,500|0|0|39,260|"
   ]
  },
  {
   "cell_type": "code",
   "execution_count": 2,
   "metadata": {},
   "outputs": [],
   "source": [
    "import pandas as pd\n",
    "import numpy as np"
   ]
  },
  {
   "cell_type": "code",
   "execution_count": 3,
   "metadata": {},
   "outputs": [],
   "source": [
    "p_a = 12000\n",
    "p_b = 16000\n",
    "s_y = 7260\n",
    "s_z = 4000\n",
    "s_y_ratio = [0.4,0.4,0,0.2]\n",
    "s_z_ratio = [0.2,0.5,0.3,0]\n",
    "x = 0"
   ]
  },
  {
   "cell_type": "markdown",
   "metadata": {},
   "source": [
    "### 1. Manual method by defining a function to calculate cost allocation."
   ]
  },
  {
   "cell_type": "code",
   "execution_count": 4,
   "metadata": {},
   "outputs": [],
   "source": [
    "def manual_allocation(y_val, z_val, y_ratio, z_ratio):\n",
    "    x = 0\n",
    "    df = pd.DataFrame(columns=['col1','col2','col3','col4'])\n",
    "    temp_y = 0\n",
    "    temp_z = 0\n",
    "\n",
    "    while (y_val>0 or z_val>0):\n",
    "        if [y_val * r for r in y_ratio][3]<0:\n",
    "            y_val = 0\n",
    "        else:\n",
    "            df.loc[len(df)] = [y_val * r for r in y_ratio]\n",
    "            temp_z = df.loc[len(df)-1][3]\n",
    "        if [z_val * r for r in z_ratio][2]<0:\n",
    "            z_val = 0\n",
    "        else:\n",
    "            df.loc[len(df)] = [z_val * r for r in z_ratio]\n",
    "            temp_y = df.loc[len(df)-1][2]\n",
    "        y_val = temp_y\n",
    "        z_val = temp_z\n",
    "        x += 1\n",
    "    return x, np.round(df.sum(), 0).tolist()"
   ]
  },
  {
   "cell_type": "code",
   "execution_count": 5,
   "metadata": {},
   "outputs": [
    {
     "name": "stdout",
     "output_type": "stream",
     "text": [
      "Result\n"
     ]
    },
    {
     "data": {
      "text/html": [
       "<div>\n",
       "<style scoped>\n",
       "    .dataframe tbody tr th:only-of-type {\n",
       "        vertical-align: middle;\n",
       "    }\n",
       "\n",
       "    .dataframe tbody tr th {\n",
       "        vertical-align: top;\n",
       "    }\n",
       "\n",
       "    .dataframe thead th {\n",
       "        text-align: right;\n",
       "    }\n",
       "</style>\n",
       "<table border=\"1\" class=\"dataframe\">\n",
       "  <thead>\n",
       "    <tr style=\"text-align: right;\">\n",
       "      <th></th>\n",
       "      <th>Dept. A</th>\n",
       "      <th>Dept. B</th>\n",
       "      <th>Service Y</th>\n",
       "      <th>Service Z</th>\n",
       "    </tr>\n",
       "  </thead>\n",
       "  <tbody>\n",
       "    <tr>\n",
       "      <th>0</th>\n",
       "      <td>12000.0</td>\n",
       "      <td>16000.0</td>\n",
       "      <td>7260.0</td>\n",
       "      <td>4000.0</td>\n",
       "    </tr>\n",
       "    <tr>\n",
       "      <th>1</th>\n",
       "      <td>4760.0</td>\n",
       "      <td>6500.0</td>\n",
       "      <td>1740.0</td>\n",
       "      <td>1800.0</td>\n",
       "    </tr>\n",
       "  </tbody>\n",
       "</table>\n",
       "</div>"
      ],
      "text/plain": [
       "   Dept. A  Dept. B  Service Y  Service Z\n",
       "0  12000.0  16000.0     7260.0     4000.0\n",
       "1   4760.0   6500.0     1740.0     1800.0"
      ]
     },
     "execution_count": 5,
     "metadata": {},
     "output_type": "execute_result"
    }
   ],
   "source": [
    "df = pd.DataFrame({'Dept. A':[p_a], 'Dept. B':[p_b], 'Service Y':[s_y], 'Service Z':[s_z]})\n",
    "x, df.loc[len(df)] = manual_allocation(s_y, s_z, s_y_ratio, s_z_ratio)\n",
    "print('Result')\n",
    "df"
   ]
  },
  {
   "cell_type": "code",
   "execution_count": 6,
   "metadata": {},
   "outputs": [
    {
     "name": "stdout",
     "output_type": "stream",
     "text": [
      "A manual calculation requires 537 iterations for allocation of 7260 & 4000\n"
     ]
    }
   ],
   "source": [
    "print('A manual calculation requires {} iterations for allocation of {} & {}'.format(x, s_y, s_z))"
   ]
  },
  {
   "cell_type": "markdown",
   "metadata": {},
   "source": [
    "### 2. Using reciprocal method to calculate cost allocation"
   ]
  },
  {
   "cell_type": "code",
   "execution_count": 7,
   "metadata": {},
   "outputs": [],
   "source": [
    "def reciprocal_allocation(y_val, z_val, y_ratio, z_ratio):\n",
    "    x = 0\n",
    "    temp_y = 0\n",
    "    temp_z = 0\n",
    "    #solving equation Y = y + y_perc*Z\n",
    "    #in writing notation: Y = \n",
    "    temp_y = (y_val + z_ratio[2]*z_val) / (1-z_ratio[2]*y_ratio[3])\n",
    "    \n",
    "    #solving equation Z = z + z_perc*Y\n",
    "    temp_z = z_val + y_ratio[3]*temp_y\n",
    "    \n",
    "    df = pd.DataFrame(columns=['col1','col2','col3','col4'])\n",
    "    df.loc[len(df)] = [temp_y * r for r in y_ratio]\n",
    "    df.loc[len(df)] = [temp_z * r for r in z_ratio]\n",
    "    x += 1\n",
    "    return x, df.sum().tolist()"
   ]
  },
  {
   "cell_type": "code",
   "execution_count": 8,
   "metadata": {},
   "outputs": [
    {
     "name": "stdout",
     "output_type": "stream",
     "text": [
      "Result\n"
     ]
    },
    {
     "data": {
      "text/html": [
       "<div>\n",
       "<style scoped>\n",
       "    .dataframe tbody tr th:only-of-type {\n",
       "        vertical-align: middle;\n",
       "    }\n",
       "\n",
       "    .dataframe tbody tr th {\n",
       "        vertical-align: top;\n",
       "    }\n",
       "\n",
       "    .dataframe thead th {\n",
       "        text-align: right;\n",
       "    }\n",
       "</style>\n",
       "<table border=\"1\" class=\"dataframe\">\n",
       "  <thead>\n",
       "    <tr style=\"text-align: right;\">\n",
       "      <th></th>\n",
       "      <th>Dept. A</th>\n",
       "      <th>Dept. B</th>\n",
       "      <th>Service Y</th>\n",
       "      <th>Service Z</th>\n",
       "    </tr>\n",
       "  </thead>\n",
       "  <tbody>\n",
       "    <tr>\n",
       "      <th>0</th>\n",
       "      <td>12000.0</td>\n",
       "      <td>16000.0</td>\n",
       "      <td>7260.0</td>\n",
       "      <td>4000.0</td>\n",
       "    </tr>\n",
       "    <tr>\n",
       "      <th>1</th>\n",
       "      <td>4760.0</td>\n",
       "      <td>6500.0</td>\n",
       "      <td>1740.0</td>\n",
       "      <td>1800.0</td>\n",
       "    </tr>\n",
       "  </tbody>\n",
       "</table>\n",
       "</div>"
      ],
      "text/plain": [
       "   Dept. A  Dept. B  Service Y  Service Z\n",
       "0  12000.0  16000.0     7260.0     4000.0\n",
       "1   4760.0   6500.0     1740.0     1800.0"
      ]
     },
     "execution_count": 8,
     "metadata": {},
     "output_type": "execute_result"
    }
   ],
   "source": [
    "df = pd.DataFrame({'Dept. A':[p_a], 'Dept. B':[p_b], 'Service Y':[s_y], 'Service Z':[s_z]})\n",
    "x, df.loc[len(df)] = reciprocal_allocation(s_y, s_z, s_y_ratio, s_z_ratio)\n",
    "print('Result')\n",
    "df\n"
   ]
  },
  {
   "cell_type": "code",
   "execution_count": 9,
   "metadata": {},
   "outputs": [
    {
     "name": "stdout",
     "output_type": "stream",
     "text": [
      "A reciprocal method requires 1 iteration for allocation of 7260 & 4000\n"
     ]
    }
   ],
   "source": [
    "print('A reciprocal method requires {} iteration for allocation of {} & {}'.format(x, s_y, s_z))"
   ]
  }
 ],
 "metadata": {
  "kernelspec": {
   "display_name": "Python 3",
   "language": "python",
   "name": "python3"
  },
  "language_info": {
   "codemirror_mode": {
    "name": "ipython",
    "version": 3
   },
   "file_extension": ".py",
   "mimetype": "text/x-python",
   "name": "python",
   "nbconvert_exporter": "python",
   "pygments_lexer": "ipython3",
   "version": "3.7.6"
  }
 },
 "nbformat": 4,
 "nbformat_minor": 4
}
