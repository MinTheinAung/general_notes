{
 "cells": [
  {
   "cell_type": "markdown",
   "metadata": {},
   "source": [
    "<h1 align='center'>Math for Data Science Notes<h1>"
   ]
  },
  {
   "cell_type": "markdown",
   "metadata": {},
   "source": [
    "<h2>Table of Contents</h2>\n",
    "<div class='alert alert-block alert-info' style='margin-top: 20px'>\n",
    "    <ul>\n",
    "        <li><a href='#rule_of_product'>Rule of Product</a></li>\n",
    "        <li><a href='#segmentation'>Segmentation</a></li>\n",
    "        <li><a href='#splitting_datasets'>Splitting Datasets</a></li>\n",
    "    </ul>"
   ]
  },
  {
   "cell_type": "markdown",
   "metadata": {},
   "source": [
    "<h3><a id='rule_of_product'>Rule of Product</a></h3>"
   ]
  },
  {
   "cell_type": "markdown",
   "metadata": {},
   "source": [
    "Q1. How many 5-digit numbers are there that have digits 1, 2, 3, 4 and 5 (each of them exactly once)?)"
   ]
  },
  {
   "cell_type": "code",
   "execution_count": 22,
   "metadata": {},
   "outputs": [
    {
     "name": "stdout",
     "output_type": "stream",
     "text": [
      "Manual calculation: 120, RoP: 120\n"
     ]
    }
   ],
   "source": [
    "# manual calculation\n",
    "x = 0\n",
    "for i in range(100000):\n",
    "    s =('0000'+str(i))[-5:] \n",
    "    if s.count('1')==1 and s.count('2')==1 and s.count('3')==1 and s.count('4')==1 and s.count('5')==1:\n",
    "        x+=1\n",
    "\n",
    "# rule of product\n",
    "y = 5*4*3*2*1\n",
    "print('Manual calculation: {}, RoP: {}'.format(x,y))"
   ]
  },
  {
   "cell_type": "markdown",
   "metadata": {},
   "source": [
    "Ans: We have to pick which of five digits we place on the first position, which of the remaining four digits we place on the second position and so on. We are dealing with permutations of numbers 1, 2, 3, 4 and 5 here and the answer is 5*4*3*2*1=120."
   ]
  },
  {
   "cell_type": "markdown",
   "metadata": {},
   "source": [
    "Q2. How many integer numbers between 0 and 9999 are there that have exactly one digit 7 and exactly one digit 2?"
   ]
  },
  {
   "cell_type": "code",
   "execution_count": 23,
   "metadata": {},
   "outputs": [
    {
     "name": "stdout",
     "output_type": "stream",
     "text": [
      "Manual calculation: 768, RoP: 768\n"
     ]
    }
   ],
   "source": [
    "# manual calculation\n",
    "x = 0\n",
    "for i in range(10000):\n",
    "    s =('0000'+str(i))[-4:] \n",
    "    if s.count('2')==1 and s.count('7')==1 :\n",
    "        x+=1\n",
    "x\n",
    "\n",
    "# rule of product\n",
    "y = 4*3*8*8\n",
    "print('Manual calculation: {}, RoP: {}'.format(x,y))"
   ]
  },
  {
   "cell_type": "markdown",
   "metadata": {},
   "source": [
    "Ans: There are 4 ways to pick the position for digit 7. Then there are 3 positions remaining for digit 2. And then we can pick each of the remaining digits in 8 possible ways (digits 7 and 2 are forbidden). Thus by the rule of product there are 4x3x8x8=768 possible numbers."
   ]
  },
  {
   "cell_type": "markdown",
   "metadata": {},
   "source": [
    "<h3><a id=\"segmentation\">Segmentation</a></h3>"
   ]
  },
  {
   "cell_type": "markdown",
   "metadata": {},
   "source": [
    "Q1. What is the number of segments in the picture below? (Each segment joins two circles.)\n",
    "\n",
    "\n",
    "<img src='img/polygon10.png' width=\"200\"/>"
   ]
  },
  {
   "cell_type": "markdown",
   "metadata": {},
   "source": [
    "Manual calculation will be the sum of x-1 possible segments, i.e:\n",
    "\n",
    "<code>(10-1) + (9-1) + (8-1) + ... (1-1)</code>"
   ]
  },
  {
   "cell_type": "code",
   "execution_count": 6,
   "metadata": {},
   "outputs": [
    {
     "name": "stdout",
     "output_type": "stream",
     "text": [
      "x = 45, iteration = 10\n"
     ]
    }
   ],
   "source": [
    "x=0\n",
    "for i in range(1,11):\n",
    "    x += i-1\n",
    "print('x = {}, iteration = {}'.format(x,10))"
   ]
  },
  {
   "cell_type": "markdown",
   "metadata": {},
   "source": [
    "There is 10 points, thus, by 10 chooses 2 calculation; $\\binom{10}{2} = \\frac{10x9}{2} = 45$"
   ]
  },
  {
   "cell_type": "markdown",
   "metadata": {},
   "source": [
    "<h3><a id='splitting_datasets'>Splitting Datasets</a></h3>"
   ]
  },
  {
   "cell_type": "markdown",
   "metadata": {},
   "source": [
    "Question 1: Suppose we have a dataset of size 12 and we want to construct a subset of data of size 6. How many ways do we have to do it?\n",
    "\n",
    "Ans: It is just $\\binom{12}{6}$"
   ]
  },
  {
   "cell_type": "code",
   "execution_count": 20,
   "metadata": {},
   "outputs": [
    {
     "data": {
      "text/plain": [
       "924.0"
      ]
     },
     "execution_count": 20,
     "metadata": {},
     "output_type": "execute_result"
    }
   ],
   "source": [
    "#12 chooses 6\n",
    "x = 1\n",
    "y = 1\n",
    "for i, j in zip(range(12,6,-1),range(6,0,-1)):\n",
    "    x *= i\n",
    "    y *= j\n",
    "x/y\n"
   ]
  },
  {
   "cell_type": "markdown",
   "metadata": {},
   "source": [
    "Question 2: Suppose we have a dataset of size 12 and we want to split it into two subsets of data of size 6 (and it does not matter, which of the subsets is the \n",
    "first and which is the second). How many ways do we have to do it?"
   ]
  },
  {
   "cell_type": "markdown",
   "metadata": {},
   "source": [
    "Ans: There are $\\binom{12}{6}=924$ ways of selecting the first subset. When the first subset is selected, the second subset is uniquely determined. But this way, each pair of subsets (A,B) is counted twice: when A is selected as the first subset and when B is selected as the first subset. Thus, the resulting count should be divided by two. This finally gives $\\binom{12}{6}/2=462$."
   ]
  },
  {
   "cell_type": "code",
   "execution_count": 21,
   "metadata": {},
   "outputs": [
    {
     "data": {
      "text/plain": [
       "462.0"
      ]
     },
     "execution_count": 21,
     "metadata": {},
     "output_type": "execute_result"
    }
   ],
   "source": [
    "#12 chooses 6 by 2\n",
    "x = 1\n",
    "y = 1\n",
    "for i, j in zip(range(12,6,-1),range(6,0,-1)):\n",
    "    x *= i\n",
    "    y *= j\n",
    "x/y/2\n"
   ]
  }
 ],
 "metadata": {
  "kernelspec": {
   "display_name": "Python 3",
   "language": "python",
   "name": "python3"
  },
  "language_info": {
   "codemirror_mode": {
    "name": "ipython",
    "version": 3
   },
   "file_extension": ".py",
   "mimetype": "text/x-python",
   "name": "python",
   "nbconvert_exporter": "python",
   "pygments_lexer": "ipython3",
   "version": "3.7.6"
  }
 },
 "nbformat": 4,
 "nbformat_minor": 4
}
